{
 "cells": [
  {
   "cell_type": "markdown",
   "metadata": {},
   "source": [
    "Iniziamo a giocare a carte scoperte e valutiamo come discriminare uno stand o un hit sulla base di valori discriminatori sulle probabilità che abbiamo di sforare o meno il 21. Iniziamo con il creare il mazzo di carte..."
   ]
  },
  {
   "cell_type": "code",
   "execution_count": 65,
   "metadata": {},
   "outputs": [],
   "source": [
    "import pandas as pd\n",
    "from matplotlib import pyplot as plt\n",
    "import numpy as np\n",
    "\n",
    "def create_deck():\n",
    "\n",
    "    deck = [1, 2, 3, 4, 5, 6, 7, 8, 9, 10]\n",
    "    cards = [8, 8, 8, 8, 8, 8, 8, 8, 8, 32]\n",
    "\n",
    "    return {\"deck\":deck,\"cards\":cards}\n",
    "\n",
    "def give_card(deck_cards):\n",
    "    card = np.random.choice(deck_cards[\"deck\"], p=deck_cards[\"cards\"]/np.sum(deck_cards[\"cards\"]))\n",
    "    deck_cards[\"cards\"][card - 1] -= 1\n",
    "\n",
    "    return card,deck_cards\n",
    "\n",
    "def start_game(deck_cards):\n",
    "    card_bank,deck_cards = give_card(deck_cards)\n",
    "\n",
    "    my_cards = []\n",
    "\n",
    "    for _ in range(2):\n",
    "\n",
    "        my_card,deck_cards = give_card(deck_cards)\n",
    "\n",
    "        my_cards.append(my_card)\n",
    "\n",
    "    return my_cards,deck_cards\n",
    "\n",
    "def stand_or_hit(my_cards,deck_cards,standRate):\n",
    "\n",
    "    my_points = (np.array(my_cards)).sum()\n",
    "\n",
    "    deck = np.array(deck_cards[\"deck\"])\n",
    "\n",
    "    upper_bound = 21 - my_points\n",
    "\n",
    "    probs_positions = deck[deck <= upper_bound] - 1\n",
    "\n",
    "    probabilities = np.array(deck_cards[\"cards\"])\n",
    "\n",
    "    prob_to_stand = probabilities[probs_positions].sum() / probabilities.sum()\n",
    "\n",
    "    return prob_to_stand > standRate\n"
   ]
  },
  {
   "cell_type": "code",
   "execution_count": 67,
   "metadata": {},
   "outputs": [
    {
     "name": "stdout",
     "output_type": "stream",
     "text": [
      "Carte in mano: [6, 1] \n",
      "Prendi o no: True\n",
      "Carte in mano: [6, 10] \n",
      "Prendi o no: False\n",
      "Carte in mano: [2, 4] \n",
      "Prendi o no: True\n",
      "Carte in mano: [3, 10] \n",
      "Prendi o no: True\n",
      "Carte in mano: [2, 1] \n",
      "Prendi o no: True\n",
      "Carte in mano: [10, 2] \n",
      "Prendi o no: True\n",
      "Carte in mano: [10, 9] \n",
      "Prendi o no: False\n",
      "Carte in mano: [9, 1] \n",
      "Prendi o no: True\n",
      "Carte in mano: [2, 1] \n",
      "Prendi o no: True\n",
      "Carte in mano: [2, 8] \n",
      "Prendi o no: True\n",
      "Carte in mano: [10, 4] \n",
      "Prendi o no: True\n",
      "Carte in mano: [3, 10] \n",
      "Prendi o no: True\n",
      "Carte in mano: [1, 5] \n",
      "Prendi o no: True\n",
      "Carte in mano: [7, 10] \n",
      "Prendi o no: False\n",
      "Carte in mano: [10, 10] \n",
      "Prendi o no: False\n",
      "Carte in mano: [3, 6] \n",
      "Prendi o no: True\n",
      "Carte in mano: [4, 8] \n",
      "Prendi o no: True\n",
      "Carte in mano: [4, 7] \n",
      "Prendi o no: True\n",
      "Carte in mano: [10, 1] \n",
      "Prendi o no: True\n",
      "Carte in mano: [4, 7] \n",
      "Prendi o no: True\n",
      "Carte in mano: [10, 8] \n",
      "Prendi o no: False\n",
      "Carte in mano: [1, 10] \n",
      "Prendi o no: True\n",
      "Carte in mano: [6, 3] \n",
      "Prendi o no: True\n",
      "Carte in mano: [5, 9] \n",
      "Prendi o no: True\n",
      "Carte in mano: [5, 9] \n",
      "Prendi o no: True\n",
      "Carte in mano: [6, 10] \n",
      "Prendi o no: False\n",
      "Carte in mano: [7, 1] \n",
      "Prendi o no: True\n",
      "Carte in mano: [9, 7] \n",
      "Prendi o no: False\n",
      "Carte in mano: [9, 10] \n",
      "Prendi o no: False\n",
      "Carte in mano: [5, 8] \n",
      "Prendi o no: True\n",
      "Carte in mano: [6, 2] \n",
      "Prendi o no: True\n",
      "Carte in mano: [7, 5] \n",
      "Prendi o no: True\n",
      "Carte in mano: [8, 4] \n",
      "Prendi o no: True\n",
      "Carte in mano: [2, 8] \n",
      "Prendi o no: True\n",
      "{'deck': [1, 2, 3, 4, 5, 6, 7, 8, 9, 10], 'cards': [0, 0, 0, 0, 0, 0, 0, 0, 0, 2]}\n"
     ]
    }
   ],
   "source": [
    "mazzo = create_deck()\n",
    "rimani = 0.5\n",
    "\n",
    "for _ in range(34):\n",
    "    carte,mazzo = start_game(mazzo)\n",
    "    print(\"Carte in mano:\",carte,\"\\nPrendi o no:\",stand_or_hit(carte,mazzo,rimani))\n",
    "\n",
    "print(mazzo)"
   ]
  }
 ],
 "metadata": {
  "kernelspec": {
   "display_name": "Presentation",
   "language": "python",
   "name": "presentation"
  },
  "language_info": {
   "codemirror_mode": {
    "name": "ipython",
    "version": 3
   },
   "file_extension": ".py",
   "mimetype": "text/x-python",
   "name": "python",
   "nbconvert_exporter": "python",
   "pygments_lexer": "ipython3",
   "version": "3.11.3"
  },
  "polyglot_notebook": {
   "kernelInfo": {
    "defaultKernelName": "csharp",
    "items": [
     {
      "aliases": [],
      "name": "csharp"
     }
    ]
   }
  }
 },
 "nbformat": 4,
 "nbformat_minor": 2
}
